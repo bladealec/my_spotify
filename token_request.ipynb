{
 "cells": [
  {
   "cell_type": "code",
   "execution_count": null,
   "id": "35f30a37",
   "metadata": {},
   "outputs": [],
   "source": [
    "import base64\n",
    "from requests import post, get \n",
    "import json"
   ]
  },
  {
   "cell_type": "code",
   "execution_count": null,
   "id": "a8c30a5e",
   "metadata": {},
   "outputs": [],
   "source": [
    "#retrieving api keys\n",
    "with open(r'C:\\Users\\alecb\\Documents\\NSS\\Python\\api_keys\\keys.json') as keys:\n",
    "    credentials = json.load(keys)\n",
    "    \n",
    "\n",
    "client_id = credentials[\"spotify_client_id\"]\n",
    "client_secret = credentials[\"spotify_client_secret\"]"
   ]
  },
  {
   "cell_type": "code",
   "execution_count": null,
   "id": "b21a1ac7",
   "metadata": {},
   "outputs": [],
   "source": [
    "#retrieves access token\n",
    "def get_token():\n",
    "    auth_string = str(client_id) + \":\" + str(client_secret)\n",
    "    auth_bytes = auth_string.encode(\"utf-8\")\n",
    "    auth_base64 = str(base64.b64encode(auth_bytes), \"utf-8\")\n",
    "    \n",
    "    url = \"https://accounts.spotify.com/api/token\"\n",
    "    headers = {\n",
    "        \"Authorization\": \"Basic \" + auth_base64,\n",
    "        \"Content-Type\": \"application/x-www-form-urlencoded\"\n",
    "    }\n",
    "    data = {\"grant_type\": \"client_credentials\"}\n",
    "    result = post(url, headers=headers, data=data)\n",
    "    json_result = json.loads(result.content)\n",
    "    token = json_result[\"access_token\"]\n",
    "    return token"
   ]
  },
  {
   "cell_type": "code",
   "execution_count": null,
   "id": "4319f3a6",
   "metadata": {},
   "outputs": [],
   "source": [
    "get_token()"
   ]
  },
  {
   "cell_type": "code",
   "execution_count": null,
   "id": "dff35a5f",
   "metadata": {},
   "outputs": [],
   "source": [
    "def search_for_artist(token, artist_name):\n",
    "    url = \"https://api.spotify.com/v1/search\"\n",
    "    headers = {\"Authorization\": \"Bearer \" + token}\n",
    "    \n",
    "    params = {\n",
    "        \"q\": artist_name,\n",
    "        \"type\": \"artist\",\n",
    "        \"limit\": 1\n",
    "    }\n",
    "    \n",
    "    result = get(url, headers=headers, params=params)\n",
    "    json_result = json.loads(result.content)\n",
    "    print(json_result)"
   ]
  },
  {
   "cell_type": "code",
   "execution_count": null,
   "id": "808d2805",
   "metadata": {},
   "outputs": [],
   "source": [
    "token = get_token()"
   ]
  },
  {
   "cell_type": "code",
   "execution_count": null,
   "id": "02fa3b81",
   "metadata": {},
   "outputs": [],
   "source": [
    "search_for_artist(token, \"DexterGordon\")"
   ]
  },
  {
   "cell_type": "code",
   "execution_count": null,
   "id": "53b4a120",
   "metadata": {},
   "outputs": [],
   "source": []
  }
 ],
 "metadata": {
  "kernelspec": {
   "display_name": "Python 3 (ipykernel)",
   "language": "python",
   "name": "python3"
  },
  "language_info": {
   "codemirror_mode": {
    "name": "ipython",
    "version": 3
   },
   "file_extension": ".py",
   "mimetype": "text/x-python",
   "name": "python",
   "nbconvert_exporter": "python",
   "pygments_lexer": "ipython3",
   "version": "3.9.13"
  }
 },
 "nbformat": 4,
 "nbformat_minor": 5
}
