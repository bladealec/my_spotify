{
 "cells": [
  {
   "cell_type": "code",
   "execution_count": null,
   "id": "e6cd1605",
   "metadata": {},
   "outputs": [],
   "source": [
    "from dotenv import load_dotenv\n",
    "import os\n",
    "import base64\n",
    "from requests import post\n",
    "import json"
   ]
  },
  {
   "cell_type": "code",
   "execution_count": null,
   "id": "f7c6d78f",
   "metadata": {},
   "outputs": [],
   "source": [
    "load_dotenv()\n",
    "\n",
    "client_id = os.getenv(\"CLIENT_ID\")\n",
    "client_secret = os.getenv(\"CLIENT_SECRET\")"
   ]
  },
  {
   "cell_type": "code",
   "execution_count": null,
   "id": "5f691ad8",
   "metadata": {},
   "outputs": [],
   "source": [
    "def get_token():\n",
    "    auth_string = str(client_id) + \":\" + str(client_secret)\n",
    "    auth_bytes = auth_string.encode(\"utf-8\")\n",
    "    auth_base64 = str(base64.b64encode(auth_bytes), \"utf-8\")\n",
    "    \n",
    "    url = \"https://accounts.spotify.com/api/token\"\n",
    "    headers = {\n",
    "        \"Authorization\": \"Basic \" + auth_base64,\n",
    "        \"Content-Type\": \"application/x-www-form-urlencoded\"\n",
    "    }\n",
    "    data = {\"grant_type\": \"client_credentials\"}\n",
    "    result = post(url, headers=headers, data=data)\n",
    "    json_result = json.loads(result.content)\n",
    "    #token = json_result[\"access_token\"]\n",
    "    return json_result"
   ]
  },
  {
   "cell_type": "code",
   "execution_count": null,
   "id": "b2a6eb15",
   "metadata": {},
   "outputs": [],
   "source": [
    "print(get_token())"
   ]
  },
  {
   "cell_type": "markdown",
   "id": "c179dcb2",
   "metadata": {},
   "source": [
    "#### {'error': 'invalid_client', 'error_description': 'Invalid client'}\n",
    "Confirm the correct authorization method: In your code, you are using the client credentials grant type, which is suitable for server-to-server authentication. Make sure that you have the necessary permissions and that your application is set up to use this grant type. If you intend to perform user-specific operations, such as accessing a user's playlists, you will need to use a different authorization flow, such as the Authorization Code flow.\n",
    "\n",
    "Check for any additional requirements: Some APIs may have additional requirements, such as specifying a redirect URI or requesting specific scopes. Review the Spotify API documentation to ensure you have met all the necessary requirements for authenticating and obtaining an access token."
   ]
  },
  {
   "cell_type": "code",
   "execution_count": null,
   "id": "be0e97a5",
   "metadata": {},
   "outputs": [],
   "source": []
  }
 ],
 "metadata": {
  "kernelspec": {
   "display_name": "Python 3 (ipykernel)",
   "language": "python",
   "name": "python3"
  },
  "language_info": {
   "codemirror_mode": {
    "name": "ipython",
    "version": 3
   },
   "file_extension": ".py",
   "mimetype": "text/x-python",
   "name": "python",
   "nbconvert_exporter": "python",
   "pygments_lexer": "ipython3",
   "version": "3.9.13"
  }
 },
 "nbformat": 4,
 "nbformat_minor": 5
}
