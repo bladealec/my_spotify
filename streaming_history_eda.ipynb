{
 "cells": [
  {
   "cell_type": "code",
   "execution_count": null,
   "id": "a3e725be",
   "metadata": {},
   "outputs": [],
   "source": [
    "import pandas as pd\n",
    "import json"
   ]
  },
  {
   "cell_type": "code",
   "execution_count": null,
   "id": "7e0ca670",
   "metadata": {},
   "outputs": [],
   "source": [
    "sh0 = pd.DataFrame(json.load(open('data/MyData/StreamingHistory0.json', encoding='utf-8')))\n",
    "sh1 = pd.DataFrame(json.load(open('data/MyData/StreamingHistory1.json', encoding='utf-8')))\n",
    "sh2 = pd.DataFrame(json.load(open('data/MyData/StreamingHistory2.json', encoding='utf-8')))"
   ]
  },
  {
   "cell_type": "code",
   "execution_count": null,
   "id": "81152e98",
   "metadata": {},
   "outputs": [],
   "source": [
    "sh0.head()"
   ]
  },
  {
   "cell_type": "code",
   "execution_count": null,
   "id": "0de3a9ef",
   "metadata": {},
   "outputs": [],
   "source": [
    "sh1.head()"
   ]
  },
  {
   "cell_type": "code",
   "execution_count": null,
   "id": "7c95fcdb",
   "metadata": {},
   "outputs": [],
   "source": [
    "sh2.head()"
   ]
  },
  {
   "cell_type": "code",
   "execution_count": null,
   "id": "920ada4a",
   "metadata": {},
   "outputs": [],
   "source": [
    "stream_hist = pd.concat([sh0,sh1,sh2])"
   ]
  },
  {
   "cell_type": "markdown",
   "id": "5d9735eb",
   "metadata": {},
   "source": [
    "#### Basic eda without cleaning"
   ]
  },
  {
   "cell_type": "code",
   "execution_count": null,
   "id": "f733fec9",
   "metadata": {
    "scrolled": true
   },
   "outputs": [],
   "source": [
    "# Print the first few rows of the DataFrame\n",
    "print(\"First 5 rows:\")\n",
    "print(stream_hist.head())\n",
    "\n",
    "# Get basic information about the DataFrame\n",
    "print(\"\\nDataFrame Info:\")\n",
    "print(stream_hist.info())\n",
    "\n",
    "# Summary statistics of numerical columns\n",
    "print(\"\\nSummary Statistics:\")\n",
    "print(stream_hist.describe())\n",
    "\n",
    "# Count the number of unique artists\n",
    "num_artists = stream_hist['artistName'].nunique()\n",
    "print(\"\\nNumber of Unique Artists:\", num_artists)\n",
    "\n",
    "# Count the number of unique tracks\n",
    "num_tracks = stream_hist['trackName'].nunique()\n",
    "print(\"Number of Unique Tracks:\", num_tracks)\n",
    "\n",
    "# Total duration of listening in minutes\n",
    "total_duration_min = stream_hist['msPlayed'].sum() / (1000 * 60)\n",
    "print(\"Total Duration (minutes):\", total_duration_min)\n",
    "\n",
    "# Top 5 most listened artists\n",
    "top_artists = stream_hist['artistName'].value_counts().head(5)\n",
    "print(\"\\nTop 5 Artists:\")\n",
    "print(top_artists)\n",
    "\n",
    "# Top 5 most listened tracks\n",
    "top_tracks = stream_hist['trackName'].value_counts().head(5)\n",
    "print(\"\\nTop 5 Tracks:\")\n",
    "print(top_tracks)"
   ]
  },
  {
   "cell_type": "markdown",
   "id": "c2cc3747",
   "metadata": {},
   "source": [
    "#### cleaning"
   ]
  },
  {
   "cell_type": "code",
   "execution_count": null,
   "id": "6d3ca212",
   "metadata": {},
   "outputs": [],
   "source": [
    "# Filter out songs with duration <= 15 seconds\n",
    "cleaned_df = stream_hist[stream_hist['msPlayed'] > 15000]\n",
    "\n",
    "# Remove any duplicate entries based on artistName, trackName, and endTime\n",
    "cleaned_df.drop_duplicates(subset=['artistName', 'trackName', 'endTime'], inplace=True)\n",
    "\n",
    "# Remove any missing values (NaNs) if present in the DataFrame\n",
    "cleaned_df.dropna(inplace=True)\n",
    "\n",
    "# Reset the index of the cleaned DataFrame\n",
    "cleaned_df.reset_index(drop=True, inplace=True)"
   ]
  },
  {
   "cell_type": "markdown",
   "id": "3d21e6ae",
   "metadata": {},
   "source": [
    "#### same eda after cleaning"
   ]
  },
  {
   "cell_type": "code",
   "execution_count": null,
   "id": "21e3974d",
   "metadata": {},
   "outputs": [],
   "source": [
    "# Print the first few rows of the DataFrame\n",
    "print(\"First 5 rows:\")\n",
    "print(cleaned_df.head())\n",
    "\n",
    "# Get basic information about the DataFrame\n",
    "print(\"\\nDataFrame Info:\")\n",
    "print(cleaned_df.info())\n",
    "\n",
    "# Summary statistics of numerical columns\n",
    "print(\"\\nSummary Statistics:\")\n",
    "print(cleaned_df.describe())\n",
    "\n",
    "# Count the number of unique artists\n",
    "num_artists = cleaned_df['artistName'].nunique()\n",
    "print(\"\\nNumber of Unique Artists:\", num_artists)\n",
    "\n",
    "# Count the number of unique tracks\n",
    "num_tracks = cleaned_df['trackName'].nunique()\n",
    "print(\"Number of Unique Tracks:\", num_tracks)\n",
    "\n",
    "# Total duration of listening in minutes\n",
    "total_duration_min = cleaned_df['msPlayed'].sum() / (1000 * 60)\n",
    "print(\"Total Duration (minutes):\", total_duration_min)\n",
    "\n",
    "# Top 5 most listened artists\n",
    "top_artists = cleaned_df['artistName'].value_counts().head(5)\n",
    "print(\"\\nTop 5 Artists:\")\n",
    "print(top_artists)\n",
    "\n",
    "# Top 5 most listened tracks\n",
    "top_tracks = cleaned_df['trackName'].value_counts().head(5)\n",
    "print(\"\\nTop 5 Tracks:\")\n",
    "print(top_tracks)"
   ]
  },
  {
   "cell_type": "code",
   "execution_count": null,
   "id": "1062972f",
   "metadata": {},
   "outputs": [],
   "source": []
  }
 ],
 "metadata": {
  "kernelspec": {
   "display_name": "Python 3 (ipykernel)",
   "language": "python",
   "name": "python3"
  },
  "language_info": {
   "codemirror_mode": {
    "name": "ipython",
    "version": 3
   },
   "file_extension": ".py",
   "mimetype": "text/x-python",
   "name": "python",
   "nbconvert_exporter": "python",
   "pygments_lexer": "ipython3",
   "version": "3.10.9"
  }
 },
 "nbformat": 4,
 "nbformat_minor": 5
}
