{
 "cells": [
  {
   "cell_type": "markdown",
   "id": "a1a1cc81",
   "metadata": {},
   "source": [
    "### This script is used to add artist genre and album release date for each track. This will be used to create a track/album recommendation script."
   ]
  },
  {
   "cell_type": "code",
   "execution_count": null,
   "id": "143d34bf",
   "metadata": {},
   "outputs": [],
   "source": [
    "import pandas as pd\n",
    "import json\n",
    "import base64\n",
    "from requests import post, get"
   ]
  },
  {
   "cell_type": "markdown",
   "id": "ec774da0",
   "metadata": {},
   "source": [
    "#### Setting up API and functions for calling API"
   ]
  },
  {
   "cell_type": "code",
   "execution_count": null,
   "id": "3e874507",
   "metadata": {},
   "outputs": [],
   "source": [
    "#retrieving api keys\n",
    "with open(r'C:\\Users\\alecb\\Documents\\NSS\\Python\\api_keys\\keys.json') as keys:\n",
    "    credentials = json.load(keys)\n",
    "    \n",
    "\n",
    "client_id = credentials[\"spotify_client_id\"]\n",
    "client_secret = credentials[\"spotify_client_secret\"]"
   ]
  },
  {
   "cell_type": "code",
   "execution_count": null,
   "id": "d03fe96e",
   "metadata": {},
   "outputs": [],
   "source": [
    "#retrieves access token\n",
    "def get_token():\n",
    "    auth_string = str(client_id) + \":\" + str(client_secret)\n",
    "    auth_bytes = auth_string.encode(\"utf-8\")\n",
    "    auth_base64 = str(base64.b64encode(auth_bytes), \"utf-8\")\n",
    "    \n",
    "    url = \"https://accounts.spotify.com/api/token\"\n",
    "    headers = {\n",
    "        \"Authorization\": \"Basic \" + auth_base64,\n",
    "        \"Content-Type\": \"application/x-www-form-urlencoded\"\n",
    "    }\n",
    "    data = {\"grant_type\": \"client_credentials\"}\n",
    "    result = post(url, headers=headers, data=data)\n",
    "    json_result = json.loads(result.content)\n",
    "    token = json_result[\"access_token\"]\n",
    "    return token"
   ]
  },
  {
   "cell_type": "code",
   "execution_count": null,
   "id": "582c5295",
   "metadata": {},
   "outputs": [],
   "source": [
    "def search_for_artist(token, artist_name):\n",
    "    url = \"https://api.spotify.com/v1/search\"\n",
    "    headers = {\"Authorization\": \"Bearer \" + token}\n",
    "    \n",
    "    params = {\n",
    "        \"q\": artist_name,\n",
    "        \"type\": \"artist\",\n",
    "        \"limit\": 1\n",
    "    }\n",
    "    \n",
    "    result = get(url, headers=headers, params=params)\n",
    "    json_result = json.loads(result.content)\n",
    "    return json_result"
   ]
  },
  {
   "cell_type": "code",
   "execution_count": null,
   "id": "0c24de71",
   "metadata": {},
   "outputs": [],
   "source": [
    "def search_for_track(token, track_name):\n",
    "    url = \"https://api.spotify.com/v1/search\"\n",
    "    headers = {\"Authorization\": \"Bearer \" + token}\n",
    "    \n",
    "    params = {\n",
    "        \"q\": track_name,\n",
    "        \"type\": \"track\",\n",
    "        \"limit\":1\n",
    "    }\n",
    "    \n",
    "    result = get(url, headers=headers, params=params)\n",
    "    json_result = json.loads(result.content)\n",
    "    return json_result"
   ]
  },
  {
   "cell_type": "code",
   "execution_count": null,
   "id": "e4f01fa0",
   "metadata": {},
   "outputs": [],
   "source": [
    "def search_for_album(token, album_name):\n",
    "    url = \"https://api.spotify.com/v1/search\"\n",
    "    headers = {\"Authorization\": \"Bearer \" + token}\n",
    "    \n",
    "    params = {\n",
    "        \"q\": album_name,\n",
    "        \"type\": \"album\",\n",
    "        \"limit\": 1\n",
    "    }\n",
    "    \n",
    "    result = get(url, headers=headers, params=params)\n",
    "    json_result = json.loads(result.content)\n",
    "    return json_result"
   ]
  },
  {
   "cell_type": "markdown",
   "id": "609b3d21",
   "metadata": {},
   "source": [
    "#### Reading streaming history into a data frame"
   ]
  },
  {
   "cell_type": "code",
   "execution_count": null,
   "id": "f119167d",
   "metadata": {},
   "outputs": [],
   "source": [
    "stream_hist = pd.read_csv('stream_hist.csv')"
   ]
  },
  {
   "cell_type": "code",
   "execution_count": null,
   "id": "d2479a71",
   "metadata": {},
   "outputs": [],
   "source": [
    "stream_hist.head(3)"
   ]
  },
  {
   "cell_type": "markdown",
   "id": "eb53ff9d",
   "metadata": {},
   "source": [
    "#### Using API to add artist genre(s) and album release date."
   ]
  },
  {
   "cell_type": "code",
   "execution_count": null,
   "id": "9526d60b",
   "metadata": {},
   "outputs": [],
   "source": []
  }
 ],
 "metadata": {
  "kernelspec": {
   "display_name": "Python 3 (ipykernel)",
   "language": "python",
   "name": "python3"
  },
  "language_info": {
   "codemirror_mode": {
    "name": "ipython",
    "version": 3
   },
   "file_extension": ".py",
   "mimetype": "text/x-python",
   "name": "python",
   "nbconvert_exporter": "python",
   "pygments_lexer": "ipython3",
   "version": "3.10.9"
  }
 },
 "nbformat": 4,
 "nbformat_minor": 5
}
